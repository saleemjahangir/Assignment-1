{
 "cells": [
  {
   "cell_type": "markdown",
   "id": "42f4254d",
   "metadata": {},
   "source": [
    "# 0.1. ARITHMETIC OPERATIONS\n"
   ]
  },
  {
   "cell_type": "code",
   "execution_count": 2,
   "id": "2b1410ee",
   "metadata": {},
   "outputs": [
    {
     "name": "stdout",
     "output_type": "stream",
     "text": [
      "Addition: 8\n",
      "Subtraction: 8\n",
      "Multiplication: 20\n",
      "Division: 1.25\n"
     ]
    }
   ],
   "source": [
    "#Q.1\n",
    "# Define a function named arithmetic_oper that takes two numbers and an operation default is \"add\".\n",
    "def arithmetic_oper(num1, num2, operation=\"add\"):\n",
    "\n",
    "     # Check if the specified operation is addition\n",
    "    if operation == \"add\":\n",
    "        # If so, add the two numbers\n",
    "        result = num1 + num2\n",
    "    # Check if the specified operation is subtraction\n",
    "    elif operation == \"subtract\":\n",
    "        # If so, subtract the second number from the first\n",
    "        result = num1 - num2\n",
    "    # Check if the specified operation is multiplication\n",
    "    elif operation == \"multiply\":\n",
    "        # If so, multiply the two numbers\n",
    "        result = num1 * num2\n",
    "    # Check if the specified operation is division\n",
    "    elif operation == \"divide\":\n",
    "        # check the second number is not zero to avoid division by zero\n",
    "        if num2 != 0:\n",
    "            # If not zero, divide the first number by the second\n",
    "            result = num1 / num2\n",
    "\n",
    "        else:\n",
    "            # Return an error message if attempting to divide by zero.\n",
    "            return \"Cannot divide by zero\"\n",
    "    else:\n",
    "        # Return an error message for an invalid operation.\n",
    "        return \"Invalid operation\"\n",
    "\n",
    "    # Return the result of the arithmetic operation.\n",
    "    return result\n",
    "\n",
    "# Example usage:\n",
    "\n",
    "# Call the function for addition with 5 and 3 as operands.\n",
    "result_add = arithmetic_oper(5, 3, operation=\"add\")\n",
    "\n",
    "# Call the function for subtraction with 10 and 2 as operands.\n",
    "result_subtract = arithmetic_oper(10, 2, operation=\"subtract\")\n",
    "\n",
    "# Call the function for multiplication with 10 and 2 as operands.\n",
    "result_multiply = arithmetic_oper(10, 2, operation=\"multiply\")\n",
    "\n",
    "# Call the function for division with 5 and 4 as operands.\n",
    "result_divide = arithmetic_oper(5, 4, operation=\"divide\")\n",
    "\n",
    "# Print the results of each operation.\n",
    "print(f\"Addition: {result_add}\")\n",
    "print(f\"Subtraction: {result_subtract}\")\n",
    "print(f\"Multiplication: {result_multiply}\")\n",
    "print(f\"Division: {result_divide}\")\n"
   ]
  },
  {
   "cell_type": "markdown",
   "id": "72423da0",
   "metadata": {},
   "source": [
    "# 0.2. ARITHMETIC OPERATIONS CONTINUED\n"
   ]
  },
  {
   "cell_type": "code",
   "execution_count": 3,
   "id": "0ec209fb",
   "metadata": {},
   "outputs": [
    {
     "name": "stdout",
     "output_type": "stream",
     "text": [
      "Sum: 11\n",
      "Product: 24\n"
     ]
    }
   ],
   "source": [
    "#Q.2\n",
    "\n",
    "#defined a function 'operation' it takes two parammeters num1 and num2 as input and an optinal aurg as default value \"add\"\n",
    "def perform_oper(*args, operation='add'):\n",
    "    # Check if the specified operation is addition\n",
    "    if operation == 'add':\n",
    "        result = 0\n",
    "        # Calculate the sum of all arguments by using for loop\n",
    "        for num in args:\n",
    "            result += num\n",
    "    # Check if the specified operation is multiplication\n",
    "    elif operation == 'multiply':\n",
    "        result = 1\n",
    "        # Multiply each argument by using for loop\n",
    "        for num in args:\n",
    "            result *= num\n",
    "    else:\n",
    "        return \"you are wrong plzzz choose 'add' or 'multiply'.\"\n",
    "\n",
    "    return result\n",
    "\n",
    "#calculate the sum of numbers 2,2,3 and 4 by using the add operation\n",
    "\n",
    "sum_result = perform_oper(2, 2, 3, 4, operation='add')\n",
    "print(\"Sum:\", sum_result)\n",
    "#calculate the product of numbers 1,2,3 and 4 by using the multiply operation\n",
    "\n",
    "multiply_result = perform_oper(1, 2, 3, 4, operation='multiply')\n",
    "print(\"Product:\", multiply_result)"
   ]
  },
  {
   "cell_type": "markdown",
   "id": "1755557b",
   "metadata": {},
   "source": [
    "# 0.3. PLAYING WITH STRINGS AGAIN"
   ]
  },
  {
   "cell_type": "code",
   "execution_count": 5,
   "id": "8a65d6b1",
   "metadata": {},
   "outputs": [
    {
     "name": "stdout",
     "output_type": "stream",
     "text": [
      "True\n"
     ]
    }
   ],
   "source": [
    "#Q.4\n",
    "'''Define a function named is_substring it takes the two arguments 'main str' and \"sub str\" \n",
    "it will check is the substring present in main string or not'''\n",
    "\n",
    "def is_substring(main_str, sub_str):\n",
    "    #check if the sub_string is combined within the main_string...\n",
    "    return sub_str in main_str\n",
    "\n",
    "#Assign the main string and substing to the (keyword_argument)\n",
    "input_str = \"Hello,my name is jahangir, how are you.\"\n",
    "#Assign the sub string to keyword_argument\n",
    "keyword_argument = \"jahangir\"\n",
    "\n",
    "\n",
    "result = is_substring(input_str, sub_str=keyword_argument)\n",
    "#if the substring is avaiable in main string it will print true otherwise false\n",
    "print(result)"
   ]
  },
  {
   "cell_type": "markdown",
   "id": "f4d8cd1d",
   "metadata": {},
   "source": [
    "# 0.4. DIVIDE STRINGS"
   ]
  },
  {
   "cell_type": "code",
   "execution_count": 9,
   "id": "71ec0436",
   "metadata": {},
   "outputs": [
    {
     "name": "stdout",
     "output_type": "stream",
     "text": [
      "Part 1: han\n",
      "Part 2: jagir\n"
     ]
    }
   ],
   "source": [
    "#Q.5\n",
    "#defined the function nammed divide_strings it takes an argument \"input_string\" as a parameter\n",
    "def divide_strings(input_string):\n",
    "    part1 = \"\"  # First part, containing letters with indexes divisible by 2 or 3, but not both\n",
    "    part2 = \"\"  # Second part, containing the rest of the letters\n",
    "\n",
    "    index = 0  # Initialize index by 0\n",
    "\n",
    "    # Iterate through each character in the input string\n",
    "    for char in input_string:\n",
    "        # Check if the index is divisible by 2 or 3, but not both\n",
    "        if (index % 2 == 0 or index % 3 == 0) and not (index % 2 == 0 and index % 3 == 0):\n",
    "            part1 += char\n",
    "        else:\n",
    "            part2 += char\n",
    "\n",
    "        index += 1  # Increment index after processing each character\n",
    "#It will return part1 as well as part2\n",
    "    return part1, part2\n",
    "#Assign \"jahangir\" to input_string\n",
    "input_string = \"jahangir\"\n",
    "# Get parts 1 and 2 by dividing the input_string using the divide_strings function\n",
    "result_part1, result_part2 = divide_strings(input_string)\n",
    "#print the result of part1\n",
    "print(\"Part 1:\", result_part1)\n",
    "#similarly print the result of part2\n",
    "print(\"Part 2:\", result_part2)"
   ]
  },
  {
   "cell_type": "markdown",
   "id": "05f3dece",
   "metadata": {},
   "source": [
    "# 0.5. RESEARCH"
   ]
  },
  {
   "cell_type": "code",
   "execution_count": 4,
   "id": "4fd3fb5a",
   "metadata": {},
   "outputs": [
    {
     "name": "stdout",
     "output_type": "stream",
     "text": [
      "1. upper(): HELLO, WORLD!\n",
      "2. lower(): hello, world!\n",
      "3. capitalize(): Hello, world!\n",
      "4. count('l'): 3\n",
      "5. find('World'): 7\n",
      "6. replace('Hello', 'Hi'): Hi, World!\n",
      "7. isalpha(): False\n",
      "8. isnumeric(): False\n",
      "9. split(', '): ['Hello', 'World!']\n",
      "10. join(words): Hello World\n"
     ]
    }
   ],
   "source": [
    "#Q.7\n",
    "#resarch on atleast 10 string methods with the practical example\n",
    "\n",
    "#simply create a string 'Hello world' stored in my_string vr\n",
    "my_string = \"Hello, World!\"\n",
    "\n",
    "#All examples will be based on the my_string\n",
    "# Research and provide examples for 10 string methods\n",
    "\n",
    "# 1. upper(): Converts all characters to uppercase.\n",
    "print(\"1. upper():\", my_string.upper())\n",
    "\n",
    "# 2. lower(): Converts all characters to lowercase.\n",
    "print(\"2. lower():\", my_string.lower())\n",
    "\n",
    "# 3. capitalize(): Converts the first character to uppercase.\n",
    "print(\"3. capitalize():\", my_string.capitalize())\n",
    "\n",
    "# 4. count(substring): Counts occurrences of a substring.\n",
    "print(\"4. count('l'):\", my_string.count('l'))\n",
    "\n",
    "# 5. find(substring): Returns the index of the first occurrence of a substring.\n",
    "print(\"5. find('World'):\", my_string.find('World'))\n",
    "\n",
    "# 6. replace(old, new): Replaces occurrences of a substring with another.\n",
    "print(\"6. replace('Hello', 'Hi'):\", my_string.replace('Hello', 'Hi'))\n",
    "\n",
    "# 7. isalpha(): Returns True if all characters are alphabetic.\n",
    "print(\"7. isalpha():\", my_string.isalpha())\n",
    "\n",
    "# 8. isnumeric(): Returns True if all characters are numeric.\n",
    "print(\"8. isnumeric():\", my_string.isnumeric())\n",
    "\n",
    "# 9. split(separator): Splits the string into a list based on the separator.\n",
    "print(\"9. split(', '):\", my_string.split(', '))\n",
    "\n",
    "# 10. join(iterable): Joins elements of an iterable into a string using the original string as a separator.\n",
    "words = [\"Hello\", \"World\"]\n",
    "print(\"10. join(words):\", ' '.join(words))"
   ]
  },
  {
   "cell_type": "markdown",
   "id": "36790d76",
   "metadata": {},
   "source": [
    "# 0.6. TUPLES AND DICTIONARIES\n"
   ]
  },
  {
   "cell_type": "code",
   "execution_count": 1,
   "id": "cde321c3",
   "metadata": {},
   "outputs": [
    {
     "name": "stdout",
     "output_type": "stream",
     "text": [
      "1. 2\n",
      "2. 6\n",
      "3. (1, 2, 3, 5, 6, 6, 7)\n",
      "4. 7\n",
      "5. 7\n",
      "6. 1\n",
      "7. 30\n",
      "8. True\n",
      "10. (1, 2, 3, 4)\n",
      "\n",
      "1. {}\n",
      "2. {'name': 'jahngir', 'age': 23, 'weight': '60kg'}\n",
      "3 5\n",
      "4. dict_items([('name', 'khan'), ('age', 25), ('dist', 'kupwara')])\n",
      "5. dict_keys(['name', 'age', 'city'])\n",
      "6. dict_values(['saleem', 23, 'srinagar'])\n",
      "7. 2\n",
      "8. {'name': 'Faizan', 'age': 30, 'village': 'ananwan'}\n",
      "9. {'a': 'Unknown', 'b': 'Unknown', 'c': 'Unknown'}\n"
     ]
    },
    {
     "data": {
      "text/plain": [
       "' The unique feature that dictionaries have compared to tuples and arrays is the ability to use \\narbitrary and non-sequential keys. In dictionaries, , and \\nthey are not restricted to being integers or sequential indices as in arrays\\xa0or\\xa0tuples'"
      ]
     },
     "execution_count": 1,
     "metadata": {},
     "output_type": "execute_result"
    }
   ],
   "source": [
    "#Q.9\n",
    "#Do the same research on tuple and dict which has been done on the string with example in Qno 7\n",
    "\n",
    "#created a tuple stored in tuple1 \n",
    "tuple1=(1,2,3,6,5,6,7)\n",
    "#count(): Counts the occurrences of a specified value in a tuple\n",
    "countofone=tuple1.count(6)\n",
    "print(\"1.\",(countofone))\n",
    "\n",
    "#index(): Returns the index of the first occurrence of a specified value.\n",
    "indexof=tuple1.index(7)\n",
    "print(\"2.\",(indexof))\n",
    "\n",
    "#sorted(): Returns a new sorted list from the elements of the tuple\n",
    "sortedtuple=tuple(sorted(tuple1))\n",
    "print(\"3.\",(sortedtuple))\n",
    "\n",
    "#len(): Returns the number of elements in the tuple.\n",
    "lenoftuple=len(tuple1)\n",
    "print(\"4.\",(lenoftuple))\n",
    "#max(): Returns the largest element in the tuple.\n",
    "\n",
    "max_value=max(tuple1)\n",
    "print(\"5.\",(max_value))\n",
    "\n",
    "#min(): Returns the smallest element in the tuple.\n",
    "\n",
    "min_value=min(tuple1)\n",
    "print(\"6.\",(min_value))\n",
    "#sum(): Returns the sum of all elements in the tuple.\n",
    "\n",
    "sum_of_elements=sum(tuple1)\n",
    "print(\"7.\",(sum_of_elements))\n",
    "\n",
    "\n",
    "#any(): Returns True if any element in the tuple is true, otherwise, returns False\n",
    "any_true=any(tuple1)\n",
    "print(\"8.\",(any_true))\n",
    "#all(): Returns True if all elements in the tuple are true, otherwise, returns False.\n",
    "\n",
    "\n",
    "#tuple(): Converts an iterable (list, string, set, etc.) to a tuple.\n",
    "my_list=[1,2,3,4]\n",
    "converted_into_tuple=tuple(my_list)\n",
    "print(\"10.\",(converted_into_tuple))\n",
    "\n",
    "print(   )#it print the space between dict and tuple portion\n",
    "#same reserch on the dict\n",
    "\n",
    "\n",
    "#clear() method removes all the elements from the dect\n",
    "my_dict = {'name': \"jahngir\", 'agr': 23, 'weight': \"60kg\"}\n",
    "my_dict.clear()\n",
    "print(\"1.\",(my_dict))  \n",
    "#copy(): it returns the copy of the dict\n",
    "my_dict = {'name': \"jahngir\", 'age': 23, 'weight': \"60kg\"}\n",
    "copied_dict = my_dict.copy()\n",
    "print(\"2.\",(copied_dict)) \n",
    "\n",
    "my_dict = {'a': 3, 'b': 5, 'c': 2}\n",
    "banana_count = my_dict.get('b')\n",
    "print(\"3\",(banana_count)) \n",
    "\n",
    "my_dict = {'name': 'khan', 'age': 25, 'dist': 'kupwara'}\n",
    "key_value_pairs = my_dict.items()\n",
    "print(\"4.\",(key_value_pairs))\n",
    "\n",
    "#keys():returs a list containg the dicts keyz\n",
    "my_dict = {'name': 'Danish', 'age': 20, 'city': 'kupwara'}\n",
    "keys_list = my_dict.keys()\n",
    "print(\"5.\",(keys_list)) \n",
    "#values():retuns the list of all the values in the dict\n",
    "my_dict = {'name': 'saleem', 'age': 23, 'city': 'srinagar'}\n",
    "values_list = my_dict.values()\n",
    "print(\"6.\",(values_list)) \n",
    "#pop():it removes the elemt from the dict\n",
    "my_dict = {'apple': 3, 'banana': 5, 'orange': 2}\n",
    "cherry_count = my_dict.pop('orange')\n",
    "print(\"7.\",(cherry_count)) \n",
    "#update():updates the dict with the specified key_value pairs\n",
    "my_dict = {'name': 'Faizan', 'age': 30}\n",
    "my_dict.update({'village': 'ananwan'})\n",
    "print(\"8.\",(my_dict)) \n",
    "#fromkey():retus the dict with keys and values\n",
    "\n",
    "keys = ['a', 'b', 'c']\n",
    "default_value = 'Unknown'\n",
    "new_dict = dict.fromkeys(keys, default_value)\n",
    "print(\"9.\",(new_dict))\n",
    "\n",
    "#Q.Few extra points has asked in question no 7\n",
    "\n",
    "#Q.Is there any common method among tupls dist and strings\n",
    "\n",
    "'''The len() is commen in these three datatypes'''\n",
    "\n",
    "#Q.why do we need tuple if we have already array\n",
    "\n",
    "'''Tuple: Elements cannot be changed after creation mostly used when we want to make our data constant\n",
    "Array: Elements can be modified, added, or removed when we want to change the elements'''\n",
    "\n",
    "\n",
    "#Q.What extra functionality does dictionary provide us?\n",
    "\n",
    "''' The unique feature that dictionaries have compared to tuples and arrays is the ability to use \n",
    "arbitrary and non-sequential keys. In dictionaries, , and \n",
    "they are not restricted to being integers or sequential indices as in arrays or tuples'''\n"
   ]
  },
  {
   "cell_type": "markdown",
   "id": "19ed392d",
   "metadata": {},
   "source": [
    "# 0.7. LAMBDA FUNCTIONS\n"
   ]
  },
  {
   "cell_type": "code",
   "execution_count": 16,
   "id": "83d3ccae",
   "metadata": {},
   "outputs": [
    {
     "name": "stdout",
     "output_type": "stream",
     "text": [
      "{'are_arrays_same': False, 'zeros_array': [0, 0, 0, 0, 0], 'max_element': 9, 'min_element': 1}\n"
     ]
    }
   ],
   "source": [
    "#Q.12\n",
    "# Define a function named \"array_operations\" that performs various operations on two arrays arr1 and arr2\n",
    "def array_operations(arr1, arr2):\n",
    "    # Check if two arrays are the same\n",
    "    are_arrays_same = lambda a, b: all(map(lambda x, y: x == y, a, b))\n",
    "\n",
    "    # Create an array of as many zeros as there were in the starting array\n",
    "    zeros_array = lambda a: list(map(lambda x: 0, a))\n",
    "\n",
    "    # Calculate the maximum element of an array\n",
    "    max_element = lambda a: max(filter(lambda x: isinstance(x, (int, float)), a), default=None)\n",
    "\n",
    "    # Calculate the minimum element of an array\n",
    "    min_element = lambda a: min(filter(lambda x: isinstance(x, (int, float)), a), default=None)\n",
    "\n",
    "    # Return a dictionary containing the results of each operation\n",
    "    return {\n",
    "        \"are_arrays_same\": are_arrays_same(arr1, arr2),\n",
    "        \"zeros_array\": zeros_array(arr1),\n",
    "        \"max_element\": max_element(arr1),\n",
    "        \"min_element\": min_element(arr1)\n",
    "    }\n",
    "\n",
    "\n",
    "array1 = [1, 7, 3, 4,9]\n",
    "array2 = [1, 5, 3, 4,10]\n",
    "\n",
    "# Call the array_operations function with the example arrays\n",
    "result = array_operations(array1, array2)\n",
    "\n",
    "# Print the results\n",
    "print(result)"
   ]
  },
  {
   "cell_type": "markdown",
   "id": "816495d2",
   "metadata": {},
   "source": [
    "# 0.8. TRICK TO USE NESTED FUNCTIONS\n"
   ]
  },
  {
   "cell_type": "code",
   "execution_count": 29,
   "id": "1b867dbd",
   "metadata": {},
   "outputs": [
    {
     "name": "stdout",
     "output_type": "stream",
     "text": [
      "Scenario 1 Result: True\n",
      "Scenario 2 Result: ([100, 400, 10000], [False, False, False])\n"
     ]
    }
   ],
   "source": [
    "#Q.11\n",
    "# Define a function named \"sum_of_digits\" it takes a number as a parameter\n",
    "def sum_of_digits(number):\n",
    "    # Define a nested function to calculate the sum of digits in a number\n",
    "    def calculate_sum(n):\n",
    "        return sum(int(digit) for digit in str(n))\n",
    "    \n",
    "    # Define a nested function to check if the sum is divisible by 3\n",
    "    def is_divisible_by_3(n):\n",
    "        return calculate_sum(n) % 3 == 0\n",
    "\n",
    "    # Return True if the sum of digits is divisible by 3, else return False\n",
    "    return is_divisible_by_3(number)\n",
    "\n",
    "# Define a function named \"power_of_elements\" that takes an array and an exponent as parameters\n",
    "def power_of_elements(array, exponent):\n",
    "    # Define a nested function to check if a number raised to 1/6th power is an integer\n",
    "    def is_sixth_power(num):\n",
    "        return num * (1/6) == int(num * (1/6))\n",
    "\n",
    "    # Return two lists: one with elements raised to the given exponent and \n",
    "    #another with True/False indicating if each element is a sixth power\n",
    "    return [element ** exponent for element in array], [is_sixth_power(element) for element in array]\n",
    "\n",
    "# Scenario 1: Call the sum_of_digits function with the parameter 123\n",
    "result_scenario_1 = sum_of_digits(123)\n",
    "print(\"Scenario 1 Result:\", result_scenario_1)\n",
    "\n",
    "# Scenario 2: Call the power_of_elements function with an array [10, 20, 100] and exponent 2\n",
    "result_scenario_2 = power_of_elements([10, 20, 100], 2)\n",
    "print(\"Scenario 2 Result:\", result_scenario_2)"
   ]
  },
  {
   "cell_type": "markdown",
   "id": "a741abf8",
   "metadata": {},
   "source": [
    "# 0.9. PRINTING SERIES\n"
   ]
  },
  {
   "cell_type": "code",
   "execution_count": 1,
   "id": "f30b21d8",
   "metadata": {},
   "outputs": [
    {
     "name": "stdout",
     "output_type": "stream",
     "text": [
      "[0, 1, 1, 2, 3]\n",
      "[3, 6, 9, 12]\n",
      "[1, 3, 5, 7, 9, 11]\n"
     ]
    }
   ],
   "source": [
    "0.6\n",
    "# Define a function named print_series that takes the two parameters series and bound.\n",
    "def print_series(series, bound):\n",
    "    # Initialize an empty list to store the result.\n",
    "    result = []\n",
    "\n",
    "    # Check if the series type is \"fibonacci\".\n",
    "    if series == \"fibonacci\":\n",
    "        # Initialize variables for Fibonacci series.\n",
    "        a, b = 0, 1\n",
    "        # Iterate 'bound' times to generate Fibonacci series and append to result.\n",
    "        for _ in range(bound):\n",
    "            result.append(a)\n",
    "            a, b = b, a + b\n",
    "\n",
    "    # Check if the series type is a positive integer.\n",
    "    elif series.isdigit():\n",
    "        # Convert series to integer.\n",
    "        i = int(series)\n",
    "        # Generate multiples of 'i' up to 'bound' and append to result.\n",
    "        result = [i * j for j in range(1, bound + 1)]\n",
    "\n",
    "    # Check if the series type is \"odd\".\n",
    "    elif series == \"odd\":\n",
    "        # Generate first 'bound' odd integers and append to result.\n",
    "        result = [2 * i + 1 for i in range(bound)]\n",
    "\n",
    "    # Check if the series type is \"prime\".\n",
    "    elif series == \"prime\":\n",
    "        # Define a function to check if a number is prime it was given in assignment 0 as well...\n",
    "        def is_prime(num):\n",
    "            if num < 2:\n",
    "                return False\n",
    "            for i in range(2, int(num**0.5) + 1):\n",
    "                if num % i == 0:\n",
    "                    return False\n",
    "            return True\n",
    "\n",
    "        # Generate the first 'bound' prime numbers and append to result.\n",
    "        num = 2\n",
    "        while len(result) < bound:\n",
    "            if is_prime(num):\n",
    "                result.append(num)\n",
    "            num += 1\n",
    "\n",
    "    # Print the final result array.\n",
    "    print(result)\n",
    "\n",
    "# Print the first 5 elements of the Fibonacci series.\n",
    "print_series(\"fibonacci\", 5)\n",
    "# Print the first 4 multiples of 3.\n",
    "print_series(\"3\", 4)\n",
    "# Print the first 6 odd integers.\n",
    "print_series(\"odd\", 6)\n",
    "# Uncomment the line below if you want to test the \"prime\" series with the first 5 prime numbers.\n",
    "# print_series(\"prime\", 5)\n"
   ]
  },
  {
   "cell_type": "markdown",
   "id": "cc1d4b90",
   "metadata": {},
   "source": [
    "# 0.10. UNEXPECTED RETURN\n"
   ]
  },
  {
   "cell_type": "code",
   "execution_count": 28,
   "id": "9e364bb4",
   "metadata": {},
   "outputs": [
    {
     "name": "stdout",
     "output_type": "stream",
     "text": [
      "Index of the first '0' element: 3\n",
      "The array contains a '0' element.\n"
     ]
    }
   ],
   "source": [
    "#Q.15\n",
    "# Define a function named find_zero_index_or_non_negative it takes an array as input.\n",
    "def find_0_index_or_non_ve(array):\n",
    "    # Initialize the index variable to 0.\n",
    "    index = 0\n",
    "\n",
    "    # Iterate through each element in the array.\n",
    "    for num in array:\n",
    "        # Check if the current element is equal to 0.\n",
    "        if num == 0:\n",
    "            # If '0' is found, return the current index.\n",
    "            return index\n",
    "        # Increment the index for the next iteration.\n",
    "        index += 1\n",
    "\n",
    "    # If no '0' element is found, return \"no zero found.\"\n",
    "    return \"no zero found.\"\n",
    "\n",
    "\n",
    "# Create an array for testing.\n",
    "my_array = [1, 4, 1, 0, 2]\n",
    "\n",
    "# Call the function with the test array.\n",
    "result_index = find_0_index_or_non_ve(my_array)\n",
    "\n",
    "# Print the result of the index search.\n",
    "print(\"Index of the first '0' element:\", result_index)\n",
    "\n",
    "# Determine if the array has only non-negative numbers based on the result.\n",
    "if result_index == \"no zero found.\":\n",
    "    print(\"The array has only non-negative numbers.\")\n",
    "else:\n",
    "    print(\"The array contains a '0' element.\")"
   ]
  },
  {
   "cell_type": "markdown",
   "id": "4c6e6751",
   "metadata": {},
   "source": [
    "# 0.11. REVERSE SORT\n"
   ]
  },
  {
   "cell_type": "code",
   "execution_count": 24,
   "id": "5621196a",
   "metadata": {},
   "outputs": [
    {
     "name": "stdout",
     "output_type": "stream",
     "text": [
      "Inefficient Reverse Sorted Array: [9, 7, 5, 4, 2, 1]\n",
      "[9, 7, 5, 4, 2, 1]\n"
     ]
    }
   ],
   "source": [
    "#Q.14\n",
    "#Define a function named \"reverse_sort_inefficient\"it takes array as a parameter\n",
    "def reverse_sort_inefficient(array):\n",
    "    # Inefficient reverse sorting using a simple iteration\n",
    "    for element in range(len(array)):\n",
    "        \n",
    "        for element_j in range(element + 1, len(array)):\n",
    "          # Here, 'element' and 'element_j' represent indices of elements in the array\n",
    "        # This loop structure is for comparing pairs of elements, avoiding redundant comparisons\n",
    "\n",
    "            if array[element] < array[element_j]:\n",
    "                array[element], array[element_j] = array[element_j], array[element]\n",
    "\n",
    "#create an array\n",
    "my_array = [4, 2, 7, 1, 9, 5]\n",
    "\n",
    "# Inefficient reverse sort\n",
    "reverse_sort_inefficient(my_array)\n",
    "#print the Inefficient Reverse Sorted Array\n",
    "print(\"Inefficient Reverse Sorted Array:\", my_array)\n",
    "\n",
    "# Using sorted with reverse=True\n",
    "sorted_array = sorted(my_array, reverse=True)\n",
    "#print sorted array\n",
    "print(sorted_array)"
   ]
  },
  {
   "cell_type": "markdown",
   "id": "fce6396c",
   "metadata": {},
   "source": [
    "# 0.12. PLAYING WITH STRINGS\n"
   ]
  },
  {
   "cell_type": "code",
   "execution_count": 9,
   "id": "0634f9b2",
   "metadata": {},
   "outputs": [
    {
     "name": "stdout",
     "output_type": "stream",
     "text": [
      "saleem jahangir\n",
      "ABO\n",
      "gte\n"
     ]
    }
   ],
   "source": [
    "#Q.3\n",
    "#Difine a function named 'concatenate_strings'it takes variable number argument\"*args\"\n",
    "def concatenate_strings(*args):\n",
    "     # initilize an empty string here stroed in result\n",
    "    result = \"\"\n",
    "     #itrates through each argument\n",
    "    for s in args:\n",
    "         #appends the \"s\" to the \"result string\"\n",
    "        result += s\n",
    "    return result\n",
    "\n",
    "# Function to extract the first letter of each string and concatenate them\n",
    "def first_letter_strings(*args):\n",
    "    result = \"\"\n",
    "    for s in args:\n",
    "        '''Appends the first letter of the current string s if the string is not empty. \n",
    "          If the string is empty, it appends an empty string.'''\n",
    "        result += s[0] if s else '' \n",
    "        #Returns the final concatenated string of first letters.\n",
    "    return result\n",
    "\n",
    "# Function to extract the i-th letter of each string and concatenate them\n",
    "def ith_letter_strings(i, *args):\n",
    "     # initilize an empty string here stroed in result\n",
    "    result = \"\"\n",
    "    for s in args:\n",
    "        if len(s) >= i:\n",
    "            result += s[i - 1]  # Add the i-th letter if it exists in the string\n",
    "    return result if result else \"no string found.\"  # Return a message if no i-th letter is found\n",
    "\n",
    "# Function to handle different operations based on the input\n",
    "def manipulate_strings(operation, *args):\n",
    "    # Checks if the operation is to concatenate strings and calls the appropriate function.\n",
    "    if operation == \"concatenate\":\n",
    "        return concatenate_strings(*args)\n",
    "     #Checks if the operation is a digit (i.e., i-th letter extraction)and calls the  function with the index.\n",
    "    elif operation == \"1\":\n",
    "        return first_letter_strings(*args)\n",
    "    #Checks if the operation is a digit (i.e., i-th letter extraction)and calls the  function with the index.\n",
    "    elif operation.isdigit():\n",
    "        i = int(operation)\n",
    "        return ith_letter_strings(i, *args)\n",
    "    else:\n",
    "        return \"Invalid operation.\"\n",
    "\n",
    "\n",
    "#calls the function to concatenate strings\n",
    "result1 = manipulate_strings(\"concatenate\", \"saleem\", \" \", \"jahangir\")\n",
    "#Calls the function to extract the first letter of each string.\n",
    "result2 = manipulate_strings(\"1\", \"Apple\", \"Banana\", \"Orange\")\n",
    "#Calls the function to extract the 3rd letter of each string.\n",
    "result3 = manipulate_strings(\"3\", \"Dog\", \"Cat\", \"Elephant\")\n",
    "\n",
    "#It will print the result1\n",
    "print(result1)  \n",
    "#It will print the result2\n",
    "print(result2)  \n",
    "#It will print the result3\n",
    "print(result3)  "
   ]
  },
  {
   "cell_type": "code",
   "execution_count": null,
   "id": "602e46cf",
   "metadata": {},
   "outputs": [],
   "source": []
  },
  {
   "cell_type": "code",
   "execution_count": null,
   "id": "0e0af8bb",
   "metadata": {},
   "outputs": [],
   "source": []
  }
 ],
 "metadata": {
  "kernelspec": {
   "display_name": "Python 3 (ipykernel)",
   "language": "python",
   "name": "python3"
  },
  "language_info": {
   "codemirror_mode": {
    "name": "ipython",
    "version": 3
   },
   "file_extension": ".py",
   "mimetype": "text/x-python",
   "name": "python",
   "nbconvert_exporter": "python",
   "pygments_lexer": "ipython3",
   "version": "3.11.5"
  }
 },
 "nbformat": 4,
 "nbformat_minor": 5
}
